{
 "cells": [
  {
   "cell_type": "code",
   "execution_count": 4,
   "id": "250fd7d1",
   "metadata": {},
   "outputs": [
    {
     "name": "stdout",
     "output_type": "stream",
     "text": [
      "game number 1\n",
      "player1 turn rock\n",
      "player2 turn paper\n",
      "player2 wines\n"
     ]
    }
   ],
   "source": [
    "game=input(\"game number \")\n",
    "player1=input(\"player1 turn \")\n",
    "player2=input(\"player2 turn \")\n",
    "if player1==\"chooses paper over rock\" and player2==\"chooses rock over paper\":\n",
    "    print(\"player1 wines\")\n",
    "elif  player1==\"chooses rock over scissors\" and player2==\"chooses scissors over rock\":  \n",
    "      print(\"player1 wines\")\n",
    "elif  player1==\"chooses paper over scissors\" and player2==\"chooses scissors over paper\":\n",
    "    print(\"player1 wines\")\n",
    "elif  player1==player2:\n",
    "     print(\"its a tie\")\n",
    "else:\n",
    "     print(\"player2 wines\")\n",
    "    "
   ]
  },
  {
   "cell_type": "code",
   "execution_count": null,
   "id": "04f7e48b",
   "metadata": {},
   "outputs": [],
   "source": []
  }
 ],
 "metadata": {
  "kernelspec": {
   "display_name": "Python 3 (ipykernel)",
   "language": "python",
   "name": "python3"
  },
  "language_info": {
   "codemirror_mode": {
    "name": "ipython",
    "version": 3
   },
   "file_extension": ".py",
   "mimetype": "text/x-python",
   "name": "python",
   "nbconvert_exporter": "python",
   "pygments_lexer": "ipython3",
   "version": "3.9.13"
  }
 },
 "nbformat": 4,
 "nbformat_minor": 5
}
